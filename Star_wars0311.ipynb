{
 "cells": [
  {
   "cell_type": "markdown",
   "metadata": {},
   "source": [
    "# Data Cleaning and EDA "
   ]
  },
  {
   "cell_type": "code",
   "execution_count": 52,
   "metadata": {
    "collapsed": false,
    "scrolled": true
   },
   "outputs": [
    {
     "name": "stdout",
     "output_type": "stream",
     "text": [
      "   RespondentID Have you seen any of the 6 films in the Star Wars franchise?  \\\n",
      "0           NaN                                           Response             \n",
      "1  3.292880e+09                                                Yes             \n",
      "2  3.292880e+09                                                 No             \n",
      "3  3.292765e+09                                                Yes             \n",
      "4  3.292763e+09                                                Yes             \n",
      "5  3.292731e+09                                                Yes             \n",
      "6  3.292719e+09                                                Yes             \n",
      "7  3.292685e+09                                                Yes             \n",
      "8  3.292664e+09                                                Yes             \n",
      "9  3.292654e+09                                                Yes             \n",
      "\n",
      "  Do you consider yourself to be a fan of the Star Wars film franchise?  \\\n",
      "0                                           Response                      \n",
      "1                                                Yes                      \n",
      "2                                                NaN                      \n",
      "3                                                 No                      \n",
      "4                                                Yes                      \n",
      "5                                                Yes                      \n",
      "6                                                Yes                      \n",
      "7                                                Yes                      \n",
      "8                                                Yes                      \n",
      "9                                                Yes                      \n",
      "\n",
      "  Which of the following Star Wars films have you seen? Please select all that apply.  \\\n",
      "0           Star Wars: Episode I  The Phantom Menace                                    \n",
      "1           Star Wars: Episode I  The Phantom Menace                                    \n",
      "2                                                NaN                                    \n",
      "3           Star Wars: Episode I  The Phantom Menace                                    \n",
      "4           Star Wars: Episode I  The Phantom Menace                                    \n",
      "5           Star Wars: Episode I  The Phantom Menace                                    \n",
      "6           Star Wars: Episode I  The Phantom Menace                                    \n",
      "7           Star Wars: Episode I  The Phantom Menace                                    \n",
      "8           Star Wars: Episode I  The Phantom Menace                                    \n",
      "9           Star Wars: Episode I  The Phantom Menace                                    \n",
      "\n",
      "                                    Unnamed: 4  \\\n",
      "0  Star Wars: Episode II  Attack of the Clones   \n",
      "1  Star Wars: Episode II  Attack of the Clones   \n",
      "2                                          NaN   \n",
      "3  Star Wars: Episode II  Attack of the Clones   \n",
      "4  Star Wars: Episode II  Attack of the Clones   \n",
      "5  Star Wars: Episode II  Attack of the Clones   \n",
      "6  Star Wars: Episode II  Attack of the Clones   \n",
      "7  Star Wars: Episode II  Attack of the Clones   \n",
      "8  Star Wars: Episode II  Attack of the Clones   \n",
      "9  Star Wars: Episode II  Attack of the Clones   \n",
      "\n",
      "                                    Unnamed: 5  \\\n",
      "0  Star Wars: Episode III  Revenge of the Sith   \n",
      "1  Star Wars: Episode III  Revenge of the Sith   \n",
      "2                                          NaN   \n",
      "3  Star Wars: Episode III  Revenge of the Sith   \n",
      "4  Star Wars: Episode III  Revenge of the Sith   \n",
      "5  Star Wars: Episode III  Revenge of the Sith   \n",
      "6  Star Wars: Episode III  Revenge of the Sith   \n",
      "7  Star Wars: Episode III  Revenge of the Sith   \n",
      "8  Star Wars: Episode III  Revenge of the Sith   \n",
      "9  Star Wars: Episode III  Revenge of the Sith   \n",
      "\n",
      "                          Unnamed: 6  \\\n",
      "0  Star Wars: Episode IV  A New Hope   \n",
      "1  Star Wars: Episode IV  A New Hope   \n",
      "2                                NaN   \n",
      "3                                NaN   \n",
      "4  Star Wars: Episode IV  A New Hope   \n",
      "5  Star Wars: Episode IV  A New Hope   \n",
      "6  Star Wars: Episode IV  A New Hope   \n",
      "7  Star Wars: Episode IV  A New Hope   \n",
      "8  Star Wars: Episode IV  A New Hope   \n",
      "9  Star Wars: Episode IV  A New Hope   \n",
      "\n",
      "                                     Unnamed: 7  \\\n",
      "0  Star Wars: Episode V The Empire Strikes Back   \n",
      "1  Star Wars: Episode V The Empire Strikes Back   \n",
      "2                                           NaN   \n",
      "3                                           NaN   \n",
      "4  Star Wars: Episode V The Empire Strikes Back   \n",
      "5  Star Wars: Episode V The Empire Strikes Back   \n",
      "6  Star Wars: Episode V The Empire Strikes Back   \n",
      "7  Star Wars: Episode V The Empire Strikes Back   \n",
      "8  Star Wars: Episode V The Empire Strikes Back   \n",
      "9  Star Wars: Episode V The Empire Strikes Back   \n",
      "\n",
      "                                 Unnamed: 8  \\\n",
      "0  Star Wars: Episode VI Return of the Jedi   \n",
      "1  Star Wars: Episode VI Return of the Jedi   \n",
      "2                                       NaN   \n",
      "3                                       NaN   \n",
      "4  Star Wars: Episode VI Return of the Jedi   \n",
      "5  Star Wars: Episode VI Return of the Jedi   \n",
      "6  Star Wars: Episode VI Return of the Jedi   \n",
      "7  Star Wars: Episode VI Return of the Jedi   \n",
      "8  Star Wars: Episode VI Return of the Jedi   \n",
      "9  Star Wars: Episode VI Return of the Jedi   \n",
      "\n",
      "  Please rank the Star Wars films in order of preference with 1 being your favorite film in the franchise and 6 being your least favorite film.  \\\n",
      "0           Star Wars: Episode I  The Phantom Menace                                                                                              \n",
      "1                                                  3                                                                                              \n",
      "2                                                NaN                                                                                              \n",
      "3                                                  1                                                                                              \n",
      "4                                                  5                                                                                              \n",
      "5                                                  5                                                                                              \n",
      "6                                                  1                                                                                              \n",
      "7                                                  6                                                                                              \n",
      "8                                                  4                                                                                              \n",
      "9                                                  5                                                                                              \n",
      "\n",
      "            ...                    Unnamed: 28  \\\n",
      "0           ...                           Yoda   \n",
      "1           ...                 Very favorably   \n",
      "2           ...                            NaN   \n",
      "3           ...               Unfamiliar (N/A)   \n",
      "4           ...                 Very favorably   \n",
      "5           ...             Somewhat favorably   \n",
      "6           ...                 Very favorably   \n",
      "7           ...                 Very favorably   \n",
      "8           ...                 Very favorably   \n",
      "9           ...             Somewhat favorably   \n",
      "\n",
      "        Which character shot first?  \\\n",
      "0                          Response   \n",
      "1  I don't understand this question   \n",
      "2                               NaN   \n",
      "3  I don't understand this question   \n",
      "4  I don't understand this question   \n",
      "5                            Greedo   \n",
      "6                               Han   \n",
      "7                               Han   \n",
      "8                               Han   \n",
      "9                               Han   \n",
      "\n",
      "  Are you familiar with the Expanded Universe?  \\\n",
      "0                                     Response   \n",
      "1                                          Yes   \n",
      "2                                          NaN   \n",
      "3                                           No   \n",
      "4                                           No   \n",
      "5                                          Yes   \n",
      "6                                          Yes   \n",
      "7                                          Yes   \n",
      "8                                           No   \n",
      "9                                           No   \n",
      "\n",
      "  Do you consider yourself to be a fan of the Expanded Universe?Ý_Ý_  \\\n",
      "0                                           Response                     \n",
      "1                                                 No                     \n",
      "2                                                NaN                     \n",
      "3                                                NaN                     \n",
      "4                                                NaN                     \n",
      "5                                                 No                     \n",
      "6                                                 No                     \n",
      "7                                                 No                     \n",
      "8                                                NaN                     \n",
      "9                                                NaN                     \n",
      "\n",
      "  Do you consider yourself to be a fan of the Star Trek franchise?    Gender  \\\n",
      "0                                           Response                Response   \n",
      "1                                                 No                    Male   \n",
      "2                                                Yes                    Male   \n",
      "3                                                 No                    Male   \n",
      "4                                                Yes                    Male   \n",
      "5                                                 No                    Male   \n",
      "6                                                Yes                    Male   \n",
      "7                                                 No                    Male   \n",
      "8                                                Yes                    Male   \n",
      "9                                                 No                    Male   \n",
      "\n",
      "        Age     Household Income                         Education  \\\n",
      "0  Response             Response                          Response   \n",
      "1     18-29                  NaN                High school degree   \n",
      "2     18-29         $0 - $24,999                   Bachelor degree   \n",
      "3     18-29         $0 - $24,999                High school degree   \n",
      "4     18-29  $100,000 - $149,999  Some college or Associate degree   \n",
      "5     18-29  $100,000 - $149,999  Some college or Associate degree   \n",
      "6     18-29    $25,000 - $49,999                   Bachelor degree   \n",
      "7     18-29                  NaN                High school degree   \n",
      "8     18-29                  NaN                High school degree   \n",
      "9     18-29         $0 - $24,999  Some college or Associate degree   \n",
      "\n",
      "  Location (Census Region)  \n",
      "0                 Response  \n",
      "1           South Atlantic  \n",
      "2       West South Central  \n",
      "3       West North Central  \n",
      "4       West North Central  \n",
      "5       West North Central  \n",
      "6          Middle Atlantic  \n",
      "7       East North Central  \n",
      "8           South Atlantic  \n",
      "9           South Atlantic  \n",
      "\n",
      "[10 rows x 38 columns]\n",
      "Index([                                                                                                                                 u'RespondentID',\n",
      "                                                                                        u'Have you seen any of the 6 films in the Star Wars franchise?',\n",
      "                                                                               u'Do you consider yourself to be a fan of the Star Wars film franchise?',\n",
      "                                                                 u'Which of the following Star Wars films have you seen? Please select all that apply.',\n",
      "                                                                                                                                          u'Unnamed: 4',\n",
      "                                                                                                                                          u'Unnamed: 5',\n",
      "                                                                                                                                          u'Unnamed: 6',\n",
      "                                                                                                                                          u'Unnamed: 7',\n",
      "                                                                                                                                          u'Unnamed: 8',\n",
      "       u'Please rank the Star Wars films in order of preference with 1 being your favorite film in the franchise and 6 being your least favorite film.',\n",
      "                                                                                                                                         u'Unnamed: 10',\n",
      "                                                                                                                                         u'Unnamed: 11',\n",
      "                                                                                                                                         u'Unnamed: 12',\n",
      "                                                                                                                                         u'Unnamed: 13',\n",
      "                                                                                                                                         u'Unnamed: 14',\n",
      "                                      u'Please state whether you view the following characters favorably, unfavorably, or are unfamiliar with him/her.',\n",
      "                                                                                                                                         u'Unnamed: 16',\n",
      "                                                                                                                                         u'Unnamed: 17',\n",
      "                                                                                                                                         u'Unnamed: 18',\n",
      "                                                                                                                                         u'Unnamed: 19',\n",
      "                                                                                                                                         u'Unnamed: 20',\n",
      "                                                                                                                                         u'Unnamed: 21',\n",
      "                                                                                                                                         u'Unnamed: 22',\n",
      "                                                                                                                                         u'Unnamed: 23',\n",
      "                                                                                                                                         u'Unnamed: 24',\n",
      "                                                                                                                                         u'Unnamed: 25',\n",
      "                                                                                                                                         u'Unnamed: 26',\n",
      "                                                                                                                                         u'Unnamed: 27',\n",
      "                                                                                                                                         u'Unnamed: 28',\n",
      "                                                                                                                         u'Which character shot first?',\n",
      "                                                                                                        u'Are you familiar with the Expanded Universe?',\n",
      "                                                                                u'Do you consider yourself to be a fan of the Expanded Universe?Ý_Ý_',\n",
      "                                                                                    u'Do you consider yourself to be a fan of the Star Trek franchise?',\n",
      "                                                                                                                                              u'Gender',\n",
      "                                                                                                                                                 u'Age',\n",
      "                                                                                                                                    u'Household Income',\n",
      "                                                                                                                                           u'Education',\n",
      "                                                                                                                            u'Location (Census Region)'],\n",
      "      dtype='object')\n",
      "(1187, 38)\n"
     ]
    }
   ],
   "source": [
    "import pandas as pd \n",
    "import numpy as np \n",
    "import matplotlib.pyplot as plt \n",
    "import seaborn as sns \n",
    "sns.set(color_codes=True)\n",
    "%matplotlib inline \n",
    "\n",
    "starwars = pd.read_csv(\"star_wars.csv\", encoding=\"ISO-8859-1\") \n",
    "print(starwars.head(10))\n",
    "print(starwars.columns)\n",
    "print(starwars.shape)"
   ]
  },
  {
   "cell_type": "code",
   "execution_count": 96,
   "metadata": {
    "collapsed": false
   },
   "outputs": [],
   "source": [
    "id = starwars[\"RespondentID\"]\n",
    "id_not_null = pd.notnull(id)\n",
    "id_is_not_null = id[id_not_null]\n",
    "starwars = starwars.loc[id_not_null] \n",
    "#If you want to remove the missing value on a dataframe based on certain Columns, apply 1) pd.notnull or pd.isnull and \n",
    "#2) put the value (i.e. True or False) back to the dataframe with loc.  "
   ]
  },
  {
   "cell_type": "code",
   "execution_count": 56,
   "metadata": {
    "collapsed": false
   },
   "outputs": [
    {
     "name": "stdout",
     "output_type": "stream",
     "text": [
      "Yes    936\n",
      "No     250\n",
      "Name: Have you seen any of the 6 films in the Star Wars franchise?, dtype: int64\n",
      "Yes    552\n",
      "No     284\n",
      "Name: Do you consider yourself to be a fan of the Star Wars film franchise?, dtype: int64\n",
      "set([u'Yes', u'No'])\n",
      "set([nan, u'Yes', u'No'])\n"
     ]
    }
   ],
   "source": [
    "print(starwars[\"Have you seen any of the 6 films in the Star Wars franchise?\"].value_counts()) \n",
    "print(starwars[\"Do you consider yourself to be a fan of the Star Wars film franchise?\"].value_counts()) \n",
    "print(set(starwars[\"Have you seen any of the 6 films in the Star Wars franchise?\"]))\n",
    "print(set(starwars[\"Do you consider yourself to be a fan of the Star Wars film franchise?\"]))"
   ]
  },
  {
   "cell_type": "code",
   "execution_count": 57,
   "metadata": {
    "collapsed": false,
    "scrolled": true
   },
   "outputs": [],
   "source": [
    "yes_no = {\"Yes\":True, \"No\":False} \n",
    "for col in [\"Have you seen any of the 6 films in the Star Wars franchise?\",\n",
    "            \"Do you consider yourself to be a fan of the Star Wars film franchise?\"]: \n",
    "    starwars[col] = starwars[col].map(yes_no) \n",
    "    #If you chance the column into different values, you have to assign that column back to the original column, \n",
    "    #Not the entire dataset  \n"
   ]
  },
  {
   "cell_type": "code",
   "execution_count": 58,
   "metadata": {
    "collapsed": false
   },
   "outputs": [
    {
     "data": {
      "text/plain": [
       "<matplotlib.axes._subplots.AxesSubplot at 0x118f08a50>"
      ]
     },
     "execution_count": 58,
     "metadata": {},
     "output_type": "execute_result"
    },
    {
     "data": {
      "image/png": "[encoded data removed]",
      "text/plain": [
       "<matplotlib.figure.Figure at 0x118e23850>"
      ]
     },
     "metadata": {},
     "output_type": "display_data"
    }
   ],
   "source": [
    "sns.countplot(x=starwars[\"Do you consider yourself to be a fan of the Star Wars film franchise?\"])"
   ]
  },
  {
   "cell_type": "code",
   "execution_count": 60,
   "metadata": {
    "collapsed": false,
    "scrolled": true
   },
   "outputs": [],
   "source": [
    "titles = {'Star Wars: Episode I  The Phantom Menace':True, \n",
    "         np.nan:False,\n",
    "         'Star Wars: Episode II  Attack of the Clones':True,\n",
    "         'Star Wars: Episode III  Revenge of the Sith':True,\n",
    "         'Star Wars: Episode IV  A New Hope':True, \n",
    "         'Star Wars: Episode V The Empire Strikes Back':True, \n",
    "         'Star Wars: Episode VI Return of the Jedi':True  \n",
    "         }\n",
    "for col in starwars.columns[3:9]:\n",
    "    starwars[col] = starwars[col].map(titles)"
   ]
  },
  {
   "cell_type": "code",
   "execution_count": 61,
   "metadata": {
    "collapsed": false,
    "scrolled": true
   },
   "outputs": [],
   "source": [
    "starwars = starwars.rename(columns={\"Which of the following Star Wars films have you seen? Please select all that apply.\":\"seen1\"})\n",
    "#inside the rename, the parameter has to be columns, not col or cols \n",
    "starwars = starwars.rename(columns={'Unnamed: 4':\"seen2\"})\n",
    "starwars = starwars.rename(columns={'Unnamed: 5':\"seen3\"})\n",
    "starwars = starwars.rename(columns={'Unnamed: 6':\"seen4\"})\n",
    "starwars = starwars.rename(columns={'Unnamed: 7':\"seen5\"})\n",
    "starwars = starwars.rename(columns={'Unnamed: 8':\"seen6\"})\n",
    "starwars[starwars.columns[9:15]] = starwars[starwars.columns[9:15]].astype(float)\n",
    "starwars[starwars.columns[9:15]].head()  \n",
    "starwars = starwars.rename(columns={\"Please rank the Star Wars films in order of preference with 1 being your favorite film in the franchise and 6 being your least favorite film.\":\"ranking_1\"})\n",
    "starwars = starwars.rename(columns={\"Unnamed: 10\":\"ranking_2\"})\n",
    "starwars = starwars.rename(columns={\"Unnamed: 11\":\"ranking_3\"})\n",
    "starwars = starwars.rename(columns={\"Unnamed: 12\":\"ranking_4\"})\n",
    "starwars = starwars.rename(columns={\"Unnamed: 13\":\"ranking_5\"})\n",
    "starwars = starwars.rename(columns={\"Unnamed: 14\":\"ranking_6\"})"
   ]
  },
  {
   "cell_type": "code",
   "execution_count": 66,
   "metadata": {
    "collapsed": false
   },
   "outputs": [
    {
     "name": "stdout",
     "output_type": "stream",
     "text": [
      "[3.7329341317365268, 4.087320574162679, 4.341317365269461, 3.272727272727273, 2.513157894736842, 3.047846889952153]\n"
     ]
    }
   ],
   "source": [
    "starwars_mean = []\n",
    "for col in starwars.columns[9:15]: \n",
    "    starwars_mean.append(starwars[col].mean())\n",
    "print(starwars_mean)\n",
    "#You don't need to assign the appended value back to starwars_mean"
   ]
  },
  {
   "cell_type": "code",
   "execution_count": 67,
   "metadata": {
    "collapsed": false,
    "scrolled": true
   },
   "outputs": [
    {
     "data": {
      "image/png": "[encoded data removed]",
      "text/plain": [
       "<matplotlib.figure.Figure at 0x118083190>"
      ]
     },
     "metadata": {},
     "output_type": "display_data"
    }
   ],
   "source": [
    "from numpy import arange \n",
    "fig, ax = plt.subplots() \n",
    "bar_positions = arange(6) + 0.75 \n",
    "name_cols = [\"SW1\",\"SW2\",\"SW3\",\"SW4\",\"SW5\",\"SW6\"]\n",
    "tick_positions = range(1,7)\n",
    "\n",
    "ax.bar(bar_positions, starwars_mean, 0.5)\n",
    "ax.set_xticks(tick_positions)\n",
    "ax.set_xticklabels(name_cols, rotation=90)\n",
    "ax.set_xlabel(\"StarWars Series Names\")\n",
    "ax.set_ylabel(\"Average Ratings\")\n",
    "ax.set_title(\"Average Ratings for StarWars Series\")\n",
    "plt.show()\n"
   ]
  },
  {
   "cell_type": "markdown",
   "metadata": {},
   "source": [
    "StarWars: Return of the Jedi has the highest rating (4.34). StarWars: EpisodeII Attack of the Clones has the lowest rating(2.51). "
   ]
  },
  {
   "cell_type": "code",
   "execution_count": 68,
   "metadata": {
    "collapsed": false,
    "scrolled": false
   },
   "outputs": [
    {
     "name": "stdout",
     "output_type": "stream",
     "text": [
      "[673, 571, 550, 607, 758, 738]\n"
     ]
    },
    {
     "data": {
      "text/plain": [
       "<matplotlib.text.Text at 0x1192a9450>"
      ]
     },
     "execution_count": 68,
     "metadata": {},
     "output_type": "execute_result"
    },
    {
     "data": {
      "image/png": "[encoded data removed]",
      "text/plain": [
       "<matplotlib.figure.Figure at 0x118ef4fd0>"
      ]
     },
     "metadata": {},
     "output_type": "display_data"
    }
   ],
   "source": [
    "starwars_seen = [] \n",
    "for col in starwars.columns[3:9]: \n",
    "    starwars_seen.append(starwars[col].sum()) \n",
    "print(starwars_seen)\n",
    "\n",
    "fig, ax = plt.subplots()\n",
    "bar_positions = arange(6) + 0.75\n",
    "name_columns = [\"SW1\",\"SW2\",\"SW3\",\"SW4\",\"SW5\",\"SW6\"]\n",
    "tick_positions = range(1,7)\n",
    "\n",
    "ax.bar(bar_positions, starwars_seen, 0.5)\n",
    "ax.set_xticks(tick_positions)\n",
    "ax.set_xticklabels(name_columns,rotation=90)\n",
    "ax.set_xlabel(\"StarWars Series\")\n",
    "ax.set_ylabel(\"Sum of watching series\")\n",
    "ax.set_title(\"Sum of people watched each series\")\n"
   ]
  },
  {
   "cell_type": "markdown",
   "metadata": {},
   "source": [
    "StarWars: EpisodeII Attack of the Clones is the most watched title(total 758). StarWars: Return of the Jedi is the least watched title(550). Interestingly, the most watched title has the least average rating although the least watched title has the highest average rating. "
   ]
  },
  {
   "cell_type": "code",
   "execution_count": 69,
   "metadata": {
    "collapsed": true
   },
   "outputs": [],
   "source": [
    "starwars_favorably = {\"Very favorably\":6,\n",
    "                     \"Somewhat favorably\":5,\n",
    "                     \"Neither favorably nor unfavorably (neutral)\":4,\n",
    "                     \"Unfamiliar (N/A)\":3,\n",
    "                     \"Somewhat unfavorably\":2,\n",
    "                     \"Very unfavorably\":1}\n",
    "for col in starwars.columns[15:29]: \n",
    "    starwars[col] = starwars[col].map(starwars_favorably).astype(float)\n",
    "starwars = starwars.rename(columns={\"Please state whether you view the following characters favorably, unfavorably, or are unfamiliar with him/her.\":\"Han Solo\"}) \n",
    "starwars = starwars.rename(columns={\"Unnamed: 16\":\"Luke Skywalker\"}) \n",
    "starwars = starwars.rename(columns={\"Unnamed: 17\":\"Princess Leia Organa\"})\n",
    "starwars = starwars.rename(columns={\"Unnamed: 18\":\"Anakin Skywalker\"})\n",
    "starwars = starwars.rename(columns={\"Unnamed: 19\":\"Obi Wan Kenobi\"})\n",
    "starwars = starwars.rename(columns={\"Unnamed: 20\":\"Emperor Palpatine\"})\n",
    "starwars = starwars.rename(columns={\"Unnamed: 21\":\"Darth Vader\"})\n",
    "starwars = starwars.rename(columns={\"Unnamed: 22\":\"Lando Calrissian\"})\n",
    "starwars = starwars.rename(columns={\"Unnamed: 23\":\"Boba Fett\"})\n",
    "starwars = starwars.rename(columns={\"Unnamed: 24\":\"C-3P0\"})\n",
    "starwars = starwars.rename(columns={\"Unnamed: 25\":\"R2 D2\"})\n",
    "starwars = starwars.rename(columns={\"Unnamed: 26\":\"Jar Jar Binks\"})\n",
    "starwars = starwars.rename(columns={\"Unnamed: 27\":\"Padme Amidala\"})\n",
    "starwars = starwars.rename(columns={\"Unnamed: 28\":\"Yoda\"})"
   ]
  },
  {
   "cell_type": "code",
   "execution_count": 97,
   "metadata": {
    "collapsed": false,
    "scrolled": true
   },
   "outputs": [
    {
     "name": "stdout",
     "output_type": "stream",
     "text": [
      "       RespondentID   ranking_1   ranking_2   ranking_3   ranking_4  \\\n",
      "count  1.186000e+03  835.000000  836.000000  835.000000  836.000000   \n",
      "mean   3.290128e+09    3.732934    4.087321    4.341317    3.272727   \n",
      "std    1.055639e+06    1.656122    1.365365    1.400464    1.825901   \n",
      "min    3.288373e+09    1.000000    1.000000    1.000000    1.000000   \n",
      "25%    3.289451e+09         NaN         NaN         NaN         NaN   \n",
      "50%    3.290147e+09         NaN         NaN         NaN         NaN   \n",
      "75%    3.290814e+09         NaN         NaN         NaN         NaN   \n",
      "max    3.292880e+09    6.000000    6.000000    6.000000    6.000000   \n",
      "\n",
      "        ranking_5   ranking_6    Han Solo  Luke Skywalker  \\\n",
      "count  836.000000  836.000000  829.000000      831.000000   \n",
      "mean     2.513158    3.047847    5.612786        5.542720   \n",
      "std      1.578620    1.666897    0.769830        0.802281   \n",
      "min      1.000000    1.000000    1.000000        1.000000   \n",
      "25%           NaN         NaN         NaN             NaN   \n",
      "50%           NaN         NaN         NaN             NaN   \n",
      "75%           NaN         NaN         NaN             NaN   \n",
      "max      6.000000    6.000000    6.000000        6.000000   \n",
      "\n",
      "       Princess Leia Organa     ...      Obi Wan Kenobi  Emperor Palpatine  \\\n",
      "count            831.000000     ...          825.000000         814.000000   \n",
      "mean               5.509025     ...            5.560000           3.630221   \n",
      "std                0.861270     ...            0.872503           1.574589   \n",
      "min                1.000000     ...            1.000000           1.000000   \n",
      "25%                     NaN     ...                 NaN                NaN   \n",
      "50%                     NaN     ...                 NaN                NaN   \n",
      "75%                     NaN     ...                 NaN                NaN   \n",
      "max                6.000000     ...            6.000000           6.000000   \n",
      "\n",
      "       Darth Vader  Lando Calrissian   Boba Fett       C-3P0       R2 D2  \\\n",
      "count   826.000000        820.000000  812.000000  827.000000  830.000000   \n",
      "mean      4.157385          4.254878    3.963054    5.324063    5.519277   \n",
      "std       1.953874          1.215353    1.415474    1.011526    0.865636   \n",
      "min       1.000000          1.000000    1.000000    1.000000    1.000000   \n",
      "25%            NaN               NaN         NaN         NaN         NaN   \n",
      "50%            NaN               NaN         NaN         NaN         NaN   \n",
      "75%            NaN               NaN         NaN         NaN         NaN   \n",
      "max       6.000000          6.000000    6.000000    6.000000    6.000000   \n",
      "\n",
      "       Jar Jar Binks  Padme Amidala        Yoda  \n",
      "count     821.000000     814.000000  826.000000  \n",
      "mean        3.304507       4.168305    5.578692  \n",
      "std         1.757865       1.373597    0.866470  \n",
      "min         1.000000       1.000000    1.000000  \n",
      "25%              NaN            NaN         NaN  \n",
      "50%              NaN            NaN         NaN  \n",
      "75%              NaN            NaN         NaN  \n",
      "max         6.000000       6.000000    6.000000  \n",
      "\n",
      "[8 rows x 21 columns]\n"
     ]
    },
    {
     "data": {
      "text/html": [
       "<div>\n",
       "<table border=\"1\" class=\"dataframe\">\n",
       "  <thead>\n",
       "    <tr style=\"text-align: right;\">\n",
       "      <th></th>\n",
       "      <th>Which character shot first?</th>\n",
       "      <th>Are you familiar with the Expanded Universe?</th>\n",
       "      <th>Do you consider yourself to be a fan of the Expanded Universe?Ý_Ý_</th>\n",
       "      <th>Do you consider yourself to be a fan of the Star Trek franchise?</th>\n",
       "      <th>Gender</th>\n",
       "      <th>Age</th>\n",
       "      <th>Household Income</th>\n",
       "      <th>Education</th>\n",
       "      <th>Location (Census Region)</th>\n",
       "    </tr>\n",
       "  </thead>\n",
       "  <tbody>\n",
       "    <tr>\n",
       "      <th>count</th>\n",
       "      <td>828</td>\n",
       "      <td>828</td>\n",
       "      <td>213</td>\n",
       "      <td>1068</td>\n",
       "      <td>1046</td>\n",
       "      <td>1046</td>\n",
       "      <td>858</td>\n",
       "      <td>1036</td>\n",
       "      <td>1043</td>\n",
       "    </tr>\n",
       "    <tr>\n",
       "      <th>unique</th>\n",
       "      <td>3</td>\n",
       "      <td>2</td>\n",
       "      <td>2</td>\n",
       "      <td>2</td>\n",
       "      <td>2</td>\n",
       "      <td>4</td>\n",
       "      <td>5</td>\n",
       "      <td>5</td>\n",
       "      <td>9</td>\n",
       "    </tr>\n",
       "    <tr>\n",
       "      <th>top</th>\n",
       "      <td>Han</td>\n",
       "      <td>No</td>\n",
       "      <td>No</td>\n",
       "      <td>False</td>\n",
       "      <td>Female</td>\n",
       "      <td>45-60</td>\n",
       "      <td>$50,000 - $99,999</td>\n",
       "      <td>Some college or Associate degree</td>\n",
       "      <td>East North Central</td>\n",
       "    </tr>\n",
       "    <tr>\n",
       "      <th>freq</th>\n",
       "      <td>325</td>\n",
       "      <td>615</td>\n",
       "      <td>114</td>\n",
       "      <td>641</td>\n",
       "      <td>549</td>\n",
       "      <td>291</td>\n",
       "      <td>298</td>\n",
       "      <td>328</td>\n",
       "      <td>181</td>\n",
       "    </tr>\n",
       "  </tbody>\n",
       "</table>\n",
       "</div>"
      ],
      "text/plain": [
       "       Which character shot first?  \\\n",
       "count                          828   \n",
       "unique                           3   \n",
       "top                            Han   \n",
       "freq                           325   \n",
       "\n",
       "       Are you familiar with the Expanded Universe?  \\\n",
       "count                                           828   \n",
       "unique                                            2   \n",
       "top                                              No   \n",
       "freq                                            615   \n",
       "\n",
       "       Do you consider yourself to be a fan of the Expanded Universe?Ý_Ý_  \\\n",
       "count                                                 213                     \n",
       "unique                                                  2                     \n",
       "top                                                    No                     \n",
       "freq                                                  114                     \n",
       "\n",
       "       Do you consider yourself to be a fan of the Star Trek franchise?  \\\n",
       "count                                                1068                 \n",
       "unique                                                  2                 \n",
       "top                                                 False                 \n",
       "freq                                                  641                 \n",
       "\n",
       "        Gender    Age   Household Income                         Education  \\\n",
       "count     1046   1046                858                              1036   \n",
       "unique       2      4                  5                                 5   \n",
       "top     Female  45-60  $50,000 - $99,999  Some college or Associate degree   \n",
       "freq       549    291                298                               328   \n",
       "\n",
       "       Location (Census Region)  \n",
       "count                      1043  \n",
       "unique                        9  \n",
       "top          East North Central  \n",
       "freq                        181  "
      ]
     },
     "execution_count": 97,
     "metadata": {},
     "output_type": "execute_result"
    }
   ],
   "source": [
    "print(starwars.describe()) #Numerican values \n",
    "starwars.describe(include=['O']) #Categorical values "
   ]
  },
  {
   "cell_type": "markdown",
   "metadata": {},
   "source": [
    "It seems like Jar Jar Binks is the least popular character among the listed Star Wars characters. "
   ]
  },
  {
   "cell_type": "code",
   "execution_count": 72,
   "metadata": {
    "collapsed": false,
    "scrolled": false
   },
   "outputs": [
    {
     "data": {
      "text/plain": [
       "East North Central    0.173538\n",
       "Pacific               0.167785\n",
       "South Atlantic        0.162991\n",
       "Middle Atlantic       0.116970\n",
       "West South Central    0.105465\n",
       "West North Central    0.089166\n",
       "Mountain              0.075743\n",
       "New England           0.071908\n",
       "East South Central    0.036433\n",
       "Name: Location (Census Region), dtype: float64"
      ]
     },
     "execution_count": 72,
     "metadata": {},
     "output_type": "execute_result"
    }
   ],
   "source": [
    "starwars[\"Location (Census Region)\"].value_counts(normalize=True)"
   ]
  },
  {
   "cell_type": "code",
   "execution_count": 73,
   "metadata": {
    "collapsed": false
   },
   "outputs": [
    {
     "data": {
      "text/html": [
       "<div>\n",
       "<table border=\"1\" class=\"dataframe\">\n",
       "  <thead>\n",
       "    <tr style=\"text-align: right;\">\n",
       "      <th></th>\n",
       "      <th>Have you seen any of the 6 films in the Star Wars franchise?</th>\n",
       "    </tr>\n",
       "    <tr>\n",
       "      <th>Location (Census Region)</th>\n",
       "      <th></th>\n",
       "    </tr>\n",
       "  </thead>\n",
       "  <tbody>\n",
       "    <tr>\n",
       "      <th>East North Central</th>\n",
       "      <td>0.740331</td>\n",
       "    </tr>\n",
       "    <tr>\n",
       "      <th>East South Central</th>\n",
       "      <td>0.842105</td>\n",
       "    </tr>\n",
       "    <tr>\n",
       "      <th>Middle Atlantic</th>\n",
       "      <td>0.762295</td>\n",
       "    </tr>\n",
       "    <tr>\n",
       "      <th>Mountain</th>\n",
       "      <td>0.860759</td>\n",
       "    </tr>\n",
       "    <tr>\n",
       "      <th>New England</th>\n",
       "      <td>0.800000</td>\n",
       "    </tr>\n",
       "    <tr>\n",
       "      <th>Pacific</th>\n",
       "      <td>0.834286</td>\n",
       "    </tr>\n",
       "    <tr>\n",
       "      <th>South Atlantic</th>\n",
       "      <td>0.782353</td>\n",
       "    </tr>\n",
       "    <tr>\n",
       "      <th>West North Central</th>\n",
       "      <td>0.817204</td>\n",
       "    </tr>\n",
       "    <tr>\n",
       "      <th>West South Central</th>\n",
       "      <td>0.690909</td>\n",
       "    </tr>\n",
       "  </tbody>\n",
       "</table>\n",
       "</div>"
      ],
      "text/plain": [
       "                          Have you seen any of the 6 films in the Star Wars franchise?\n",
       "Location (Census Region)                                                              \n",
       "East North Central                                                 0.740331           \n",
       "East South Central                                                 0.842105           \n",
       "Middle Atlantic                                                    0.762295           \n",
       "Mountain                                                           0.860759           \n",
       "New England                                                        0.800000           \n",
       "Pacific                                                            0.834286           \n",
       "South Atlantic                                                     0.782353           \n",
       "West North Central                                                 0.817204           \n",
       "West South Central                                                 0.690909           "
      ]
     },
     "execution_count": 73,
     "metadata": {},
     "output_type": "execute_result"
    }
   ],
   "source": [
    "starwars[[\"Have you seen any of the 6 films in the Star Wars franchise?\",\"Location (Census Region)\"]].groupby(\"Location (Census Region)\").mean()"
   ]
  },
  {
   "cell_type": "code",
   "execution_count": 74,
   "metadata": {
    "collapsed": false
   },
   "outputs": [],
   "source": [
    "starwars[\"Do you consider yourself to be a fan of the Star Wars film franchise?\"] = starwars[\"Do you consider yourself to be a fan of the Star Wars film franchise?\"].astype(bool)"
   ]
  },
  {
   "cell_type": "markdown",
   "metadata": {},
   "source": [
    "# Gender"
   ]
  },
  {
   "cell_type": "markdown",
   "metadata": {},
   "source": [
    "Let's analyze the StarWars data based on gender binary category. "
   ]
  },
  {
   "cell_type": "code",
   "execution_count": 79,
   "metadata": {
    "collapsed": false,
    "scrolled": false
   },
   "outputs": [
    {
     "data": {
      "text/plain": [
       "Female    549\n",
       "Male      497\n",
       "Name: Gender, dtype: int64"
      ]
     },
     "execution_count": 79,
     "metadata": {},
     "output_type": "execute_result"
    }
   ],
   "source": [
    "starwars[\"Gender\"].value_counts() \n",
    "#More female than men "
   ]
  },
  {
   "cell_type": "code",
   "execution_count": 80,
   "metadata": {
    "collapsed": false
   },
   "outputs": [
    {
     "data": {
      "image/png": "[encoded data removed]",
      "text/plain": [
       "<matplotlib.figure.Figure at 0x118ef4910>"
      ]
     },
     "metadata": {},
     "output_type": "display_data"
    }
   ],
   "source": [
    "sns.countplot(x='Gender', hue=\"Jar Jar Binks\", data=starwars)\n",
    "plt.ylabel(\"count for Jar Jar Binks\")\n",
    "plt.show()"
   ]
  },
  {
   "cell_type": "code",
   "execution_count": 81,
   "metadata": {
    "collapsed": false,
    "scrolled": false
   },
   "outputs": [
    {
     "data": {
      "text/plain": [
       "<matplotlib.axes._subplots.AxesSubplot at 0x119c2bd50>"
      ]
     },
     "execution_count": 81,
     "metadata": {},
     "output_type": "execute_result"
    },
    {
     "data": {
      "image/png": "[encoded data removed]",
      "text/plain": [
       "<matplotlib.figure.Figure at 0x118aa5d90>"
      ]
     },
     "metadata": {},
     "output_type": "display_data"
    }
   ],
   "source": [
    "sns.barplot(x=\"Gender\",y=\"Do you consider yourself to be a fan of the Star Wars film franchise?\", hue=\"Age\", data=starwars)\n",
    "#Male are more likely to be a fan of StarWars compared to female"
   ]
  },
  {
   "cell_type": "code",
   "execution_count": 82,
   "metadata": {
    "collapsed": false
   },
   "outputs": [
    {
     "data": {
      "text/plain": [
       "0.760539629005059"
      ]
     },
     "execution_count": 82,
     "metadata": {},
     "output_type": "execute_result"
    }
   ],
   "source": [
    "starwars[\"Do you consider yourself to be a fan of the Star Wars film franchise?\"].mean()"
   ]
  },
  {
   "cell_type": "markdown",
   "metadata": {},
   "source": [
    "# StarTrek fan "
   ]
  },
  {
   "cell_type": "code",
   "execution_count": 83,
   "metadata": {
    "collapsed": false
   },
   "outputs": [
    {
     "data": {
      "text/plain": [
       "No     0.600187\n",
       "Yes    0.399813\n",
       "Name: Do you consider yourself to be a fan of the Star Trek franchise?, dtype: float64"
      ]
     },
     "execution_count": 83,
     "metadata": {},
     "output_type": "execute_result"
    }
   ],
   "source": [
    "starwars[\"Do you consider yourself to be a fan of the Star Trek franchise?\"].value_counts(normalize=True) \n",
    "#More people are not a fan of Star Trek (60%)  "
   ]
  },
  {
   "cell_type": "code",
   "execution_count": 84,
   "metadata": {
    "collapsed": false
   },
   "outputs": [],
   "source": [
    "starwars[\"Do you consider yourself to be a fan of the Star Trek franchise?\"] = starwars[\"Do you consider yourself to be a fan of the Star Trek franchise?\"].map({\"Yes\":True, \"No\":False})"
   ]
  },
  {
   "cell_type": "code",
   "execution_count": 85,
   "metadata": {
    "collapsed": false
   },
   "outputs": [
    {
     "data": {
      "text/plain": [
       "False    641\n",
       "True     427\n",
       "Name: Do you consider yourself to be a fan of the Star Trek franchise?, dtype: int64"
      ]
     },
     "execution_count": 85,
     "metadata": {},
     "output_type": "execute_result"
    }
   ],
   "source": [
    "starwars[\"Do you consider yourself to be a fan of the Star Trek franchise?\"].value_counts()"
   ]
  },
  {
   "cell_type": "code",
   "execution_count": 86,
   "metadata": {
    "collapsed": false
   },
   "outputs": [],
   "source": [
    "startrek_true = starwars[starwars[\"Do you consider yourself to be a fan of the Star Trek franchise?\"] == True] \n",
    "startrek_false = starwars[starwars[\"Do you consider yourself to be a fan of the Star Trek franchise?\"] == False] "
   ]
  },
  {
   "cell_type": "code",
   "execution_count": 87,
   "metadata": {
    "collapsed": false
   },
   "outputs": [
    {
     "name": "stdout",
     "output_type": "stream",
     "text": [
      "('StarTrek fan', [364, 336, 322, 342, 397, 396])\n",
      "('Non-StarTrek fan', [301, 228, 221, 258, 353, 334])\n"
     ]
    }
   ],
   "source": [
    "startrek_true_seen = [] \n",
    "for col in startrek_true.columns[3:9]:\n",
    "    startrek_true_seen.append(startrek_true[col].sum())\n",
    "print(\"StarTrek fan\", startrek_true_seen)\n",
    "\n",
    "startrek_false_seen = [] \n",
    "for col in startrek_false.columns[3:9]: \n",
    "    startrek_false_seen.append(startrek_false[col].sum())\n",
    "print(\"Non-StarTrek fan\", startrek_false_seen)\n",
    "#How to visualize this results? "
   ]
  },
  {
   "cell_type": "markdown",
   "metadata": {},
   "source": [
    "# Region "
   ]
  },
  {
   "cell_type": "markdown",
   "metadata": {},
   "source": [
    "Census Regions \n",
    "---------------------------------------------------------------\n",
    "1: East North Central: Indiana, Illinoi, Michigan, Ohio, Wisconsin \n",
    "2: Pacific: Alaska, Washington, California, Oregon, Hawaii            \n",
    "3: South Atlantic: Delaware, District of Columbia, Florida, Georgia, Maryland, North Carolina, South Carolina,Virginia \n",
    "4: West Virginia          \n",
    "5: Middle Atlantic: New Jersy, New York, Pennsilvania         \n",
    "6: West South Central: Arkansas, Louisiana, Oklahoma, Texas  \n",
    "7: West North Central: Iowa, Nebraska, Kansas, NorthDakota, Minnesota, South Dakota, Missouri  \n",
    "8: Mountain: Arizona, Colorado, Idaho, New Mexico          \n",
    "9: New England: Mass, Main, Vermont, New Hampsher, Rhoad Island, Conneticat             \n",
    "10: East South Central: Alabama, Kentucky, Mississippi, Tennessee"
   ]
  },
  {
   "cell_type": "code",
   "execution_count": 89,
   "metadata": {
    "collapsed": false,
    "scrolled": true
   },
   "outputs": [
    {
     "name": "stdout",
     "output_type": "stream",
     "text": [
      "1           South Atlantic\n",
      "2       West South Central\n",
      "3       West North Central\n",
      "4       West North Central\n",
      "5       West North Central\n",
      "6          Middle Atlantic\n",
      "7       East North Central\n",
      "8           South Atlantic\n",
      "9           South Atlantic\n",
      "10                 Pacific\n",
      "13          South Atlantic\n",
      "14                Mountain\n",
      "15      East North Central\n",
      "16      West South Central\n",
      "17             New England\n",
      "18         Middle Atlantic\n",
      "19          South Atlantic\n",
      "20      West North Central\n",
      "21                 Pacific\n",
      "22                 Pacific\n",
      "23          South Atlantic\n",
      "24                 Pacific\n",
      "25      East North Central\n",
      "26      East South Central\n",
      "27          South Atlantic\n",
      "28         Middle Atlantic\n",
      "29         Middle Atlantic\n",
      "30      East North Central\n",
      "31             New England\n",
      "32      West North Central\n",
      "               ...        \n",
      "1156        South Atlantic\n",
      "1157       Middle Atlantic\n",
      "1158       Middle Atlantic\n",
      "1159               Pacific\n",
      "1160    West South Central\n",
      "1161               Pacific\n",
      "1163        South Atlantic\n",
      "1164           New England\n",
      "1165       Middle Atlantic\n",
      "1166              Mountain\n",
      "1167        South Atlantic\n",
      "1168    East North Central\n",
      "1169    East North Central\n",
      "1170        South Atlantic\n",
      "1171    East North Central\n",
      "1172              Mountain\n",
      "1173               Pacific\n",
      "1174       Middle Atlantic\n",
      "1175    West North Central\n",
      "1176    West South Central\n",
      "1177       Middle Atlantic\n",
      "1178               Pacific\n",
      "1179    West North Central\n",
      "1180    West North Central\n",
      "1181               Pacific\n",
      "1182    East North Central\n",
      "1183              Mountain\n",
      "1184       Middle Atlantic\n",
      "1185    East North Central\n",
      "1186               Pacific\n",
      "Name: Location (Census Region), dtype: object\n"
     ]
    }
   ],
   "source": [
    "location_null = pd.isnull(starwars[\"Location (Census Region)\"])\n",
    "location_good = starwars[\"Location (Census Region)\"][location_null == False] \n",
    "print(location_good)"
   ]
  },
  {
   "cell_type": "code",
   "execution_count": 90,
   "metadata": {
    "collapsed": false,
    "scrolled": false
   },
   "outputs": [
    {
     "data": {
      "text/plain": [
       "East North Central    181\n",
       "Pacific               175\n",
       "South Atlantic        170\n",
       "Middle Atlantic       122\n",
       "West South Central    110\n",
       "West North Central     93\n",
       "Mountain               79\n",
       "New England            75\n",
       "East South Central     38\n",
       "Name: Location (Census Region), dtype: int64"
      ]
     },
     "execution_count": 90,
     "metadata": {},
     "output_type": "execute_result"
    }
   ],
   "source": [
    "starwars[\"Location (Census Region)\"].value_counts() "
   ]
  },
  {
   "cell_type": "code",
   "execution_count": 91,
   "metadata": {
    "collapsed": false
   },
   "outputs": [
    {
     "data": {
      "text/html": [
       "<div>\n",
       "<table border=\"1\" class=\"dataframe\">\n",
       "  <thead>\n",
       "    <tr style=\"text-align: right;\">\n",
       "      <th></th>\n",
       "      <th>Do you consider yourself to be a fan of the Star Wars film franchise?</th>\n",
       "    </tr>\n",
       "    <tr>\n",
       "      <th>Location (Census Region)</th>\n",
       "      <th></th>\n",
       "    </tr>\n",
       "  </thead>\n",
       "  <tbody>\n",
       "    <tr>\n",
       "      <th>West South Central</th>\n",
       "      <td>0.790909</td>\n",
       "    </tr>\n",
       "    <tr>\n",
       "      <th>New England</th>\n",
       "      <td>0.786667</td>\n",
       "    </tr>\n",
       "    <tr>\n",
       "      <th>Middle Atlantic</th>\n",
       "      <td>0.762295</td>\n",
       "    </tr>\n",
       "    <tr>\n",
       "      <th>Mountain</th>\n",
       "      <td>0.759494</td>\n",
       "    </tr>\n",
       "    <tr>\n",
       "      <th>West North Central</th>\n",
       "      <td>0.752688</td>\n",
       "    </tr>\n",
       "    <tr>\n",
       "      <th>South Atlantic</th>\n",
       "      <td>0.735294</td>\n",
       "    </tr>\n",
       "    <tr>\n",
       "      <th>East North Central</th>\n",
       "      <td>0.723757</td>\n",
       "    </tr>\n",
       "    <tr>\n",
       "      <th>East South Central</th>\n",
       "      <td>0.684211</td>\n",
       "    </tr>\n",
       "    <tr>\n",
       "      <th>Pacific</th>\n",
       "      <td>0.657143</td>\n",
       "    </tr>\n",
       "  </tbody>\n",
       "</table>\n",
       "</div>"
      ],
      "text/plain": [
       "                          Do you consider yourself to be a fan of the Star Wars film franchise?\n",
       "Location (Census Region)                                                                       \n",
       "West South Central                                                 0.790909                    \n",
       "New England                                                        0.786667                    \n",
       "Middle Atlantic                                                    0.762295                    \n",
       "Mountain                                                           0.759494                    \n",
       "West North Central                                                 0.752688                    \n",
       "South Atlantic                                                     0.735294                    \n",
       "East North Central                                                 0.723757                    \n",
       "East South Central                                                 0.684211                    \n",
       "Pacific                                                            0.657143                    "
      ]
     },
     "execution_count": 91,
     "metadata": {},
     "output_type": "execute_result"
    }
   ],
   "source": [
    "starwars[[\"Do you consider yourself to be a fan of the Star Wars film franchise?\",\"Location (Census Region)\"]].groupby(\"Location (Census Region)\").mean().sort_values(\"Do you consider yourself to be a fan of the Star Wars film franchise?\", ascending=0)\n",
    "#West South Central(Arkansas, Louisiana, Oklahoma, Texas) has the highest average of being a Star Wars fan \n",
    "#Pacific region(Alaska, Washington, California, Oregon, Hawaii) is the lowest "
   ]
  },
  {
   "cell_type": "markdown",
   "metadata": {
    "collapsed": true
   },
   "source": [
    "# Age"
   ]
  },
  {
   "cell_type": "markdown",
   "metadata": {},
   "source": [
    "What's the most popular starwars character? "
   ]
  },
  {
   "cell_type": "code",
   "execution_count": 92,
   "metadata": {
    "collapsed": false
   },
   "outputs": [
    {
     "data": {
      "text/plain": [
       "45-60    0.278203\n",
       "> 60     0.257170\n",
       "30-44    0.256214\n",
       "18-29    0.208413\n",
       "Name: Age, dtype: float64"
      ]
     },
     "execution_count": 92,
     "metadata": {},
     "output_type": "execute_result"
    }
   ],
   "source": [
    "starwars[\"Age\"].value_counts(normalize=True)"
   ]
  },
  {
   "cell_type": "code",
   "execution_count": 93,
   "metadata": {
    "collapsed": false
   },
   "outputs": [
    {
     "data": {
      "text/plain": [
       "<matplotlib.axes._subplots.AxesSubplot at 0x119cb0250>"
      ]
     },
     "execution_count": 93,
     "metadata": {},
     "output_type": "execute_result"
    },
    {
     "data": {
      "image/png": "[encoded data removed]",
      "text/plain": [
       "<matplotlib.figure.Figure at 0x119d19710>"
      ]
     },
     "metadata": {},
     "output_type": "display_data"
    }
   ],
   "source": [
    "sns.countplot(x=\"Do you consider yourself to be a fan of the Star Wars film franchise?\", hue=\"Age\", data=starwars, palette=\"RdBu\")"
   ]
  },
  {
   "cell_type": "code",
   "execution_count": 98,
   "metadata": {
    "collapsed": false
   },
   "outputs": [
    {
     "data": {
      "text/plain": [
       "<matplotlib.axes._subplots.AxesSubplot at 0x119dc9f90>"
      ]
     },
     "execution_count": 98,
     "metadata": {},
     "output_type": "execute_result"
    },
    {
     "data": {
      "image/png": "[encoded data removed]",
      "text/plain": [
       "<matplotlib.figure.Figure at 0x119d7e7d0>"
      ]
     },
     "metadata": {},
     "output_type": "display_data"
    }
   ],
   "source": [
    "sns.boxplot(x=\"Age\", y=\"Jar Jar Binks\", data=starwars)"
   ]
  },
  {
   "cell_type": "code",
   "execution_count": 103,
   "metadata": {
    "collapsed": false
   },
   "outputs": [
    {
     "ename": "SyntaxError",
     "evalue": "invalid syntax (<ipython-input-103-9a4004497ff3>, line 1)",
     "output_type": "error",
     "traceback": [
      "\u001b[0;36m  File \u001b[0;32m\"<ipython-input-103-9a4004497ff3>\"\u001b[0;36m, line \u001b[0;32m1\u001b[0m\n\u001b[0;31m    sns.countplot(x=\"Age\", hue=\"Jar Jar Binks\", order =[18-29, 30-44, 45-60, >60], data=starwars)\u001b[0m\n\u001b[0m                                                                             ^\u001b[0m\n\u001b[0;31mSyntaxError\u001b[0m\u001b[0;31m:\u001b[0m invalid syntax\n"
     ]
    }
   ],
   "source": [
    "sns.countplot(x=\"Age\", hue=\"Jar Jar Binks\", order =[18-29, 30-44, 45-60, 60], data=starwars)"
   ]
  },
  {
   "cell_type": "code",
   "execution_count": null,
   "metadata": {
    "collapsed": true
   },
   "outputs": [],
   "source": [
    "sns.Faced"
   ]
  }
 ],
 "metadata": {
  "anaconda-cloud": {},
  "kernelspec": {
   "display_name": "Python [conda root]",
   "language": "python",
   "name": "conda-root-py"
  },
  "language_info": {
   "codemirror_mode": {
    "name": "ipython",
    "version": 2
   },
   "file_extension": ".py",
   "mimetype": "text/x-python",
   "name": "python",
   "nbconvert_exporter": "python",
   "pygments_lexer": "ipython2",
   "version": "2.7.9"
  }
 },
 "nbformat": 4,
 "nbformat_minor": 1
}
