{
 "cells": [
  {
   "cell_type": "markdown",
   "metadata": {},
   "source": [
    "# Data Cleaning and EDA "
   ]
  },
  {
   "cell_type": "code",
   "execution_count": 1,
   "metadata": {
    "collapsed": false
   },
   "outputs": [
    {
     "ename": "IOError",
     "evalue": "File star_wars.csv does not exist",
     "output_type": "error",
     "traceback": [
      "\u001b[0;31m---------------------------------------------------------------------------\u001b[0m",
      "\u001b[0;31mIOError\u001b[0m                                   Traceback (most recent call last)",
      "\u001b[0;32m<ipython-input-1-f7261bad20d8>\u001b[0m in \u001b[0;36m<module>\u001b[0;34m()\u001b[0m\n\u001b[1;32m      6\u001b[0m \u001b[0mget_ipython\u001b[0m\u001b[0;34m(\u001b[0m\u001b[0;34m)\u001b[0m\u001b[0;34m.\u001b[0m\u001b[0mmagic\u001b[0m\u001b[0;34m(\u001b[0m\u001b[0;34mu'matplotlib inline'\u001b[0m\u001b[0;34m)\u001b[0m\u001b[0;34m\u001b[0m\u001b[0m\n\u001b[1;32m      7\u001b[0m \u001b[0;34m\u001b[0m\u001b[0m\n\u001b[0;32m----> 8\u001b[0;31m \u001b[0mstarwars\u001b[0m \u001b[0;34m=\u001b[0m \u001b[0mpd\u001b[0m\u001b[0;34m.\u001b[0m\u001b[0mread_csv\u001b[0m\u001b[0;34m(\u001b[0m\u001b[0;34m\"star_wars.csv\"\u001b[0m\u001b[0;34m,\u001b[0m \u001b[0mencoding\u001b[0m\u001b[0;34m=\u001b[0m\u001b[0;34m\"ISO-8859-1\"\u001b[0m\u001b[0;34m)\u001b[0m\u001b[0;34m\u001b[0m\u001b[0m\n\u001b[0m\u001b[1;32m      9\u001b[0m \u001b[0;32mprint\u001b[0m\u001b[0;34m(\u001b[0m\u001b[0mstarwars\u001b[0m\u001b[0;34m.\u001b[0m\u001b[0mhead\u001b[0m\u001b[0;34m(\u001b[0m\u001b[0;36m10\u001b[0m\u001b[0;34m)\u001b[0m\u001b[0;34m)\u001b[0m\u001b[0;34m\u001b[0m\u001b[0m\n\u001b[1;32m     10\u001b[0m \u001b[0;32mprint\u001b[0m\u001b[0;34m(\u001b[0m\u001b[0mstarwars\u001b[0m\u001b[0;34m.\u001b[0m\u001b[0mcolumns\u001b[0m\u001b[0;34m)\u001b[0m\u001b[0;34m\u001b[0m\u001b[0m\n",
      "\u001b[0;32m/Users/aratatomiyoshi/anaconda/lib/python2.7/site-packages/pandas/io/parsers.pyc\u001b[0m in \u001b[0;36mparser_f\u001b[0;34m(filepath_or_buffer, sep, delimiter, header, names, index_col, usecols, squeeze, prefix, mangle_dupe_cols, dtype, engine, converters, true_values, false_values, skipinitialspace, skiprows, skipfooter, nrows, na_values, keep_default_na, na_filter, verbose, skip_blank_lines, parse_dates, infer_datetime_format, keep_date_col, date_parser, dayfirst, iterator, chunksize, compression, thousands, decimal, lineterminator, quotechar, quoting, escapechar, comment, encoding, dialect, tupleize_cols, error_bad_lines, warn_bad_lines, skip_footer, doublequote, delim_whitespace, as_recarray, compact_ints, use_unsigned, low_memory, buffer_lines, memory_map, float_precision)\u001b[0m\n\u001b[1;32m    560\u001b[0m                     skip_blank_lines=skip_blank_lines)\n\u001b[1;32m    561\u001b[0m \u001b[0;34m\u001b[0m\u001b[0m\n\u001b[0;32m--> 562\u001b[0;31m         \u001b[0;32mreturn\u001b[0m \u001b[0m_read\u001b[0m\u001b[0;34m(\u001b[0m\u001b[0mfilepath_or_buffer\u001b[0m\u001b[0;34m,\u001b[0m \u001b[0mkwds\u001b[0m\u001b[0;34m)\u001b[0m\u001b[0;34m\u001b[0m\u001b[0m\n\u001b[0m\u001b[1;32m    563\u001b[0m \u001b[0;34m\u001b[0m\u001b[0m\n\u001b[1;32m    564\u001b[0m     \u001b[0mparser_f\u001b[0m\u001b[0;34m.\u001b[0m\u001b[0m__name__\u001b[0m \u001b[0;34m=\u001b[0m \u001b[0mname\u001b[0m\u001b[0;34m\u001b[0m\u001b[0m\n",
      "\u001b[0;32m/Users/aratatomiyoshi/anaconda/lib/python2.7/site-packages/pandas/io/parsers.pyc\u001b[0m in \u001b[0;36m_read\u001b[0;34m(filepath_or_buffer, kwds)\u001b[0m\n\u001b[1;32m    313\u001b[0m \u001b[0;34m\u001b[0m\u001b[0m\n\u001b[1;32m    314\u001b[0m     \u001b[0;31m# Create the parser.\u001b[0m\u001b[0;34m\u001b[0m\u001b[0;34m\u001b[0m\u001b[0m\n\u001b[0;32m--> 315\u001b[0;31m     \u001b[0mparser\u001b[0m \u001b[0;34m=\u001b[0m \u001b[0mTextFileReader\u001b[0m\u001b[0;34m(\u001b[0m\u001b[0mfilepath_or_buffer\u001b[0m\u001b[0;34m,\u001b[0m \u001b[0;34m**\u001b[0m\u001b[0mkwds\u001b[0m\u001b[0;34m)\u001b[0m\u001b[0;34m\u001b[0m\u001b[0m\n\u001b[0m\u001b[1;32m    316\u001b[0m \u001b[0;34m\u001b[0m\u001b[0m\n\u001b[1;32m    317\u001b[0m     \u001b[0;32mif\u001b[0m \u001b[0;34m(\u001b[0m\u001b[0mnrows\u001b[0m \u001b[0;32mis\u001b[0m \u001b[0;32mnot\u001b[0m \u001b[0mNone\u001b[0m\u001b[0;34m)\u001b[0m \u001b[0;32mand\u001b[0m \u001b[0;34m(\u001b[0m\u001b[0mchunksize\u001b[0m \u001b[0;32mis\u001b[0m \u001b[0;32mnot\u001b[0m \u001b[0mNone\u001b[0m\u001b[0;34m)\u001b[0m\u001b[0;34m:\u001b[0m\u001b[0;34m\u001b[0m\u001b[0m\n",
      "\u001b[0;32m/Users/aratatomiyoshi/anaconda/lib/python2.7/site-packages/pandas/io/parsers.pyc\u001b[0m in \u001b[0;36m__init__\u001b[0;34m(self, f, engine, **kwds)\u001b[0m\n\u001b[1;32m    643\u001b[0m             \u001b[0mself\u001b[0m\u001b[0;34m.\u001b[0m\u001b[0moptions\u001b[0m\u001b[0;34m[\u001b[0m\u001b[0;34m'has_index_names'\u001b[0m\u001b[0;34m]\u001b[0m \u001b[0;34m=\u001b[0m \u001b[0mkwds\u001b[0m\u001b[0;34m[\u001b[0m\u001b[0;34m'has_index_names'\u001b[0m\u001b[0;34m]\u001b[0m\u001b[0;34m\u001b[0m\u001b[0m\n\u001b[1;32m    644\u001b[0m \u001b[0;34m\u001b[0m\u001b[0m\n\u001b[0;32m--> 645\u001b[0;31m         \u001b[0mself\u001b[0m\u001b[0;34m.\u001b[0m\u001b[0m_make_engine\u001b[0m\u001b[0;34m(\u001b[0m\u001b[0mself\u001b[0m\u001b[0;34m.\u001b[0m\u001b[0mengine\u001b[0m\u001b[0;34m)\u001b[0m\u001b[0;34m\u001b[0m\u001b[0m\n\u001b[0m\u001b[1;32m    646\u001b[0m \u001b[0;34m\u001b[0m\u001b[0m\n\u001b[1;32m    647\u001b[0m     \u001b[0;32mdef\u001b[0m \u001b[0mclose\u001b[0m\u001b[0;34m(\u001b[0m\u001b[0mself\u001b[0m\u001b[0;34m)\u001b[0m\u001b[0;34m:\u001b[0m\u001b[0;34m\u001b[0m\u001b[0m\n",
      "\u001b[0;32m/Users/aratatomiyoshi/anaconda/lib/python2.7/site-packages/pandas/io/parsers.pyc\u001b[0m in \u001b[0;36m_make_engine\u001b[0;34m(self, engine)\u001b[0m\n\u001b[1;32m    797\u001b[0m     \u001b[0;32mdef\u001b[0m \u001b[0m_make_engine\u001b[0m\u001b[0;34m(\u001b[0m\u001b[0mself\u001b[0m\u001b[0;34m,\u001b[0m \u001b[0mengine\u001b[0m\u001b[0;34m=\u001b[0m\u001b[0;34m'c'\u001b[0m\u001b[0;34m)\u001b[0m\u001b[0;34m:\u001b[0m\u001b[0;34m\u001b[0m\u001b[0m\n\u001b[1;32m    798\u001b[0m         \u001b[0;32mif\u001b[0m \u001b[0mengine\u001b[0m \u001b[0;34m==\u001b[0m \u001b[0;34m'c'\u001b[0m\u001b[0;34m:\u001b[0m\u001b[0;34m\u001b[0m\u001b[0m\n\u001b[0;32m--> 799\u001b[0;31m             \u001b[0mself\u001b[0m\u001b[0;34m.\u001b[0m\u001b[0m_engine\u001b[0m \u001b[0;34m=\u001b[0m \u001b[0mCParserWrapper\u001b[0m\u001b[0;34m(\u001b[0m\u001b[0mself\u001b[0m\u001b[0;34m.\u001b[0m\u001b[0mf\u001b[0m\u001b[0;34m,\u001b[0m \u001b[0;34m**\u001b[0m\u001b[0mself\u001b[0m\u001b[0;34m.\u001b[0m\u001b[0moptions\u001b[0m\u001b[0;34m)\u001b[0m\u001b[0;34m\u001b[0m\u001b[0m\n\u001b[0m\u001b[1;32m    800\u001b[0m         \u001b[0;32melse\u001b[0m\u001b[0;34m:\u001b[0m\u001b[0;34m\u001b[0m\u001b[0m\n\u001b[1;32m    801\u001b[0m             \u001b[0;32mif\u001b[0m \u001b[0mengine\u001b[0m \u001b[0;34m==\u001b[0m \u001b[0;34m'python'\u001b[0m\u001b[0;34m:\u001b[0m\u001b[0;34m\u001b[0m\u001b[0m\n",
      "\u001b[0;32m/Users/aratatomiyoshi/anaconda/lib/python2.7/site-packages/pandas/io/parsers.pyc\u001b[0m in \u001b[0;36m__init__\u001b[0;34m(self, src, **kwds)\u001b[0m\n\u001b[1;32m   1211\u001b[0m         \u001b[0mkwds\u001b[0m\u001b[0;34m[\u001b[0m\u001b[0;34m'allow_leading_cols'\u001b[0m\u001b[0;34m]\u001b[0m \u001b[0;34m=\u001b[0m \u001b[0mself\u001b[0m\u001b[0;34m.\u001b[0m\u001b[0mindex_col\u001b[0m \u001b[0;32mis\u001b[0m \u001b[0;32mnot\u001b[0m \u001b[0mFalse\u001b[0m\u001b[0;34m\u001b[0m\u001b[0m\n\u001b[1;32m   1212\u001b[0m \u001b[0;34m\u001b[0m\u001b[0m\n\u001b[0;32m-> 1213\u001b[0;31m         \u001b[0mself\u001b[0m\u001b[0;34m.\u001b[0m\u001b[0m_reader\u001b[0m \u001b[0;34m=\u001b[0m \u001b[0m_parser\u001b[0m\u001b[0;34m.\u001b[0m\u001b[0mTextReader\u001b[0m\u001b[0;34m(\u001b[0m\u001b[0msrc\u001b[0m\u001b[0;34m,\u001b[0m \u001b[0;34m**\u001b[0m\u001b[0mkwds\u001b[0m\u001b[0;34m)\u001b[0m\u001b[0;34m\u001b[0m\u001b[0m\n\u001b[0m\u001b[1;32m   1214\u001b[0m \u001b[0;34m\u001b[0m\u001b[0m\n\u001b[1;32m   1215\u001b[0m         \u001b[0;31m# XXX\u001b[0m\u001b[0;34m\u001b[0m\u001b[0;34m\u001b[0m\u001b[0m\n",
      "\u001b[0;32mpandas/parser.pyx\u001b[0m in \u001b[0;36mpandas.parser.TextReader.__cinit__ (pandas/parser.c:3427)\u001b[0;34m()\u001b[0m\n",
      "\u001b[0;32mpandas/parser.pyx\u001b[0m in \u001b[0;36mpandas.parser.TextReader._setup_parser_source (pandas/parser.c:6861)\u001b[0;34m()\u001b[0m\n",
      "\u001b[0;31mIOError\u001b[0m: File star_wars.csv does not exist"
     ]
    }
   ],
   "source": [
    "import pandas as pd \n",
    "import numpy as np \n",
    "import matplotlib.pyplot as plt \n",
    "import seaborn as sns \n",
    "sns.set(color_codes=True)\n",
    "%matplotlib inline \n",
    "\n",
    "starwars = pd.read_csv(\"star_wars.csv\", encoding=\"ISO-8859-1\") \n",
    "print(starwars.head(10))\n",
    "print(starwars.columns)\n",
    "print(starwars.shape)\n",
    "#(1187, 38) - 38 columns "
   ]
  },
  {
   "cell_type": "code",
   "execution_count": null,
   "metadata": {
    "collapsed": false
   },
   "outputs": [],
   "source": [
    "id = starwars[\"RespondentID\"]\n",
    "print(id.shape[0])\n",
    "id_not_null = pd.notnull(id)\n",
    "id_is_not_null = id[id_not_null]\n",
    "print(id_is_not_null)\n",
    "print(id_is_not_null.shape[0])\n"
   ]
  },
  {
   "cell_type": "code",
   "execution_count": null,
   "metadata": {
    "collapsed": false
   },
   "outputs": [],
   "source": [
    "starwars[\"RespondentID\"].dtype "
   ]
  },
  {
   "cell_type": "code",
   "execution_count": null,
   "metadata": {
    "collapsed": false
   },
   "outputs": [],
   "source": [
    "starwars = starwars.loc[id_not_null] \n",
    "#If you want to remove the missing value on a dataframe based on certain Columns, apply 1) pd.notnull or pd.isnull and \n",
    "#2) put the value (i.e. True or False) back to the dataframe with loc.  "
   ]
  },
  {
   "cell_type": "code",
   "execution_count": null,
   "metadata": {
    "collapsed": false
   },
   "outputs": [],
   "source": [
    "print(starwars[\"Have you seen any of the 6 films in the Star Wars franchise?\"].value_counts()) \n",
    "print(starwars[\"Do you consider yourself to be a fan of the Star Wars film franchise?\"].value_counts()) \n",
    "print(set(starwars[\"Have you seen any of the 6 films in the Star Wars franchise?\"]))\n",
    "print(set(starwars[\"Do you consider yourself to be a fan of the Star Wars film franchise?\"]))"
   ]
  },
  {
   "cell_type": "code",
   "execution_count": null,
   "metadata": {
    "collapsed": false,
    "scrolled": true
   },
   "outputs": [],
   "source": [
    "yes_no = {\"Yes\":True, \"No\":False} \n",
    "for col in [\"Have you seen any of the 6 films in the Star Wars franchise?\",\n",
    "            \"Do you consider yourself to be a fan of the Star Wars film franchise?\"]: \n",
    "    starwars[col] = starwars[col].map(yes_no) \n",
    "    #If you chance the column into different values, you have to assign that column back to the original column, \n",
    "    #Not the entire dataset  \n",
    "print(starwars.head())"
   ]
  },
  {
   "cell_type": "code",
   "execution_count": null,
   "metadata": {
    "collapsed": false
   },
   "outputs": [],
   "source": [
    "sns.countplot(x=starwars[\"Do you consider yourself to be a fan of the Star Wars film franchise?\"])\n"
   ]
  },
  {
   "cell_type": "code",
   "execution_count": null,
   "metadata": {
    "collapsed": false
   },
   "outputs": [],
   "source": [
    "print(set(starwars[\"Which of the following Star Wars films have you seen? Please select all that apply.\"])) \n",
    "print(set(starwars[\"Unnamed: 4\"])) \n",
    "print(set(starwars[\"Unnamed: 5\"])) \n",
    "print(set(starwars[\"Unnamed: 6\"]))\n",
    "print(set(starwars[\"Unnamed: 7\"]))\n",
    "print(set(starwars[\"Unnamed: 8\"])) "
   ]
  },
  {
   "cell_type": "code",
   "execution_count": null,
   "metadata": {
    "collapsed": false,
    "scrolled": true
   },
   "outputs": [],
   "source": [
    "titles = {'Star Wars: Episode I  The Phantom Menace':True, \n",
    "         np.nan:False,\n",
    "         'Star Wars: Episode II  Attack of the Clones':True,\n",
    "         'Star Wars: Episode III  Revenge of the Sith':True,\n",
    "         'Star Wars: Episode IV  A New Hope':True, \n",
    "         'Star Wars: Episode V The Empire Strikes Back':True, \n",
    "         'Star Wars: Episode VI Return of the Jedi':True  \n",
    "         }\n",
    "for col in starwars.columns[3:9]:\n",
    "    starwars[col] = starwars[col].map(titles)\n",
    "print(starwars.head())\n",
    "# The key is to iterate around the name of the columns, and inside the for loop, you re-engineer the mapping selecting \n",
    "#entire columns. Also it's important to put the modified columns back to the original columns NOT THE entire tableset."
   ]
  },
  {
   "cell_type": "code",
   "execution_count": null,
   "metadata": {
    "collapsed": false,
    "scrolled": true
   },
   "outputs": [],
   "source": [
    "starwars = starwars.rename(columns={\"Which of the following Star Wars films have you seen? Please select all that apply.\":\"seen1\"})\n",
    "#inside the rename, the parameter has to be columns, not col or cols \n",
    "print(starwars.columns)"
   ]
  },
  {
   "cell_type": "code",
   "execution_count": null,
   "metadata": {
    "collapsed": false
   },
   "outputs": [],
   "source": [
    "starwars = starwars.rename(columns={'Unnamed: 4':\"seen2\"})\n",
    "starwars = starwars.rename(columns={'Unnamed: 5':\"seen3\"})\n",
    "starwars = starwars.rename(columns={'Unnamed: 6':\"seen4\"})\n",
    "starwars = starwars.rename(columns={'Unnamed: 7':\"seen5\"})\n",
    "starwars = starwars.rename(columns={'Unnamed: 8':\"seen6\"})\n",
    "print(starwars.columns)"
   ]
  },
  {
   "cell_type": "code",
   "execution_count": null,
   "metadata": {
    "collapsed": false,
    "scrolled": true
   },
   "outputs": [],
   "source": [
    "starwars[\"Please rank the Star Wars films in order of preference with 1 being your favorite film in the franchise and 6 being your least favorite film.\"]"
   ]
  },
  {
   "cell_type": "code",
   "execution_count": null,
   "metadata": {
    "collapsed": false
   },
   "outputs": [],
   "source": [
    "starwars[starwars.columns[9:15]] = starwars[starwars.columns[9:15]].astype(float)\n",
    "starwars[starwars.columns[9:15]].head()  \n",
    "starwars = starwars.rename(columns={\"Please rank the Star Wars films in order of preference with 1 being your favorite film in the franchise and 6 being your least favorite film.\":\"ranking_1\"})\n",
    "starwars = starwars.rename(columns={\"Unnamed: 10\":\"ranking_2\"})\n",
    "starwars = starwars.rename(columns={\"Unnamed: 11\":\"ranking_3\"})\n",
    "starwars = starwars.rename(columns={\"Unnamed: 12\":\"ranking_4\"})\n",
    "starwars = starwars.rename(columns={\"Unnamed: 13\":\"ranking_5\"})\n",
    "starwars = starwars.rename(columns={\"Unnamed: 14\":\"ranking_6\"})\n",
    "starwars.columns"
   ]
  },
  {
   "cell_type": "code",
   "execution_count": null,
   "metadata": {
    "collapsed": false
   },
   "outputs": [],
   "source": [
    "starwars.columns[9]\n",
    "vector = starwars['ranking_1'] \n",
    "vector.mean()"
   ]
  },
  {
   "cell_type": "code",
   "execution_count": null,
   "metadata": {
    "collapsed": false
   },
   "outputs": [],
   "source": [
    "starwars_mean = []\n",
    "for col in starwars.columns[9:15]: \n",
    "    starwars_mean.append(starwars[col].mean())\n",
    "print(starwars_mean)\n",
    "#You don't need to assign the appended value back to starwars_mean"
   ]
  },
  {
   "cell_type": "code",
   "execution_count": null,
   "metadata": {
    "collapsed": false,
    "scrolled": true
   },
   "outputs": [],
   "source": [
    "from numpy import arange \n",
    "fig, ax = plt.subplots() \n",
    "bar_positions = arange(6) + 0.75 \n",
    "name_cols = [\"SW1\",\"SW2\",\"SW3\",\"SW4\",\"SW5\",\"SW6\"]\n",
    "tick_positions = range(1,7)\n",
    "\n",
    "ax.bar(bar_positions, starwars_mean, 0.5)\n",
    "ax.set_xticks(tick_positions)\n",
    "ax.set_xticklabels(name_cols, rotation=90)\n",
    "ax.set_xlabel(\"StarWars Series Names\")\n",
    "ax.set_ylabel(\"Average Ratings\")\n",
    "ax.set_title(\"Average Ratings for StarWars Series\")\n",
    "plt.show()\n"
   ]
  },
  {
   "cell_type": "markdown",
   "metadata": {},
   "source": [
    "StarWars: Return of the Jedi has the highest rating (4.34). StarWars: EpisodeII Attack of the Clones has the lowest rating(2.51). "
   ]
  },
  {
   "cell_type": "code",
   "execution_count": null,
   "metadata": {
    "collapsed": false,
    "scrolled": false
   },
   "outputs": [],
   "source": [
    "starwars.columns[3]\n",
    "\n",
    "starwars_seen = [] \n",
    "for col in starwars.columns[3:9]: \n",
    "    starwars_seen.append(starwars[col].sum()) \n",
    "print(starwars_seen)\n",
    "\n",
    "fig, ax = plt.subplots()\n",
    "bar_positions = arange(6) + 0.75\n",
    "name_columns = [\"SW1\",\"SW2\",\"SW3\",\"SW4\",\"SW5\",\"SW6\"]\n",
    "tick_positions = range(1,7)\n",
    "\n",
    "ax.bar(bar_positions, starwars_seen, 0.5)\n",
    "ax.set_xticks(tick_positions)\n",
    "ax.set_xticklabels(name_columns,rotation=90)\n",
    "ax.set_xlabel(\"StarWars Series\")\n",
    "ax.set_ylabel(\"Sum of watching series\")\n",
    "ax.set_title(\"Sum of people watched each series\")\n"
   ]
  },
  {
   "cell_type": "markdown",
   "metadata": {},
   "source": [
    "StarWars: EpisodeII Attack of the Clones is the most watched title(total 758). StarWars: Return of the Jedi is the least watched title(550). Interestingly, the most watched title has the least average rating although the least watched title has the highest average rating. "
   ]
  },
  {
   "cell_type": "code",
   "execution_count": null,
   "metadata": {
    "collapsed": true
   },
   "outputs": [],
   "source": [
    "starwars_favorably = {\"Very favorably\":6,\n",
    "                     \"Somewhat favorably\":5,\n",
    "                     \"Neither favorably nor unfavorably (neutral)\":4,\n",
    "                     \"Unfamiliar (N/A)\":3,\n",
    "                     \"Somewhat unfavorably\":2,\n",
    "                     \"Very unfavorably\":1}\n",
    "for col in starwars.columns[15:29]: \n",
    "    starwars[col] = starwars[col].map(starwars_favorably).astype(float)\n",
    "\n",
    "starwars = starwars.rename(columns={\"Please state whether you view the following characters favorably, unfavorably, or are unfamiliar with him/her.\":\"Han Solo\"}) \n",
    "starwars = starwars.rename(columns={\"Unnamed: 16\":\"Luke Skywalker\"}) \n",
    "starwars = starwars.rename(columns={\"Unnamed: 17\":\"Princess Leia Organa\"})\n",
    "starwars = starwars.rename(columns={\"Unnamed: 18\":\"Anakin Skywalker\"})\n",
    "starwars = starwars.rename(columns={\"Unnamed: 19\":\"Obi Wan Kenobi\"})\n",
    "starwars = starwars.rename(columns={\"Unnamed: 20\":\"Emperor Palpatine\"})\n",
    "starwars = starwars.rename(columns={\"Unnamed: 21\":\"Darth Vader\"})\n",
    "starwars = starwars.rename(columns={\"Unnamed: 22\":\"Lando Calrissian\"})\n",
    "starwars = starwars.rename(columns={\"Unnamed: 23\":\"Boba Fett\"})\n",
    "starwars = starwars.rename(columns={\"Unnamed: 24\":\"C-3P0\"})\n",
    "starwars = starwars.rename(columns={\"Unnamed: 25\":\"R2 D2\"})\n",
    "starwars = starwars.rename(columns={\"Unnamed: 26\":\"Jar Jar Binks\"})\n",
    "starwars = starwars.rename(columns={\"Unnamed: 27\":\"Padme Amidala\"})\n",
    "starwars = starwars.rename(columns={\"Unnamed: 28\":\"Yoda\"})"
   ]
  },
  {
   "cell_type": "code",
   "execution_count": null,
   "metadata": {
    "collapsed": false,
    "scrolled": false
   },
   "outputs": [],
   "source": [
    "starwars.describe() #Numerican values "
   ]
  },
  {
   "cell_type": "code",
   "execution_count": null,
   "metadata": {
    "collapsed": false,
    "scrolled": true
   },
   "outputs": [],
   "source": [
    "starwars.describe(include=['O']) #Categorical values "
   ]
  },
  {
   "cell_type": "markdown",
   "metadata": {},
   "source": [
    "It seems like Jar Jar Binks is the least popular character among the listed Star Wars characters. "
   ]
  },
  {
   "cell_type": "code",
   "execution_count": null,
   "metadata": {
    "collapsed": false,
    "scrolled": false
   },
   "outputs": [],
   "source": [
    "starwars[\"Location (Census Region)\"].value_counts(normalize=True)"
   ]
  },
  {
   "cell_type": "code",
   "execution_count": null,
   "metadata": {
    "collapsed": false
   },
   "outputs": [],
   "source": [
    "starwars[[\"Have you seen any of the 6 films in the Star Wars franchise?\",\"Location (Census Region)\"]].groupby(\"Location (Census Region)\").mean()"
   ]
  },
  {
   "cell_type": "code",
   "execution_count": null,
   "metadata": {
    "collapsed": false
   },
   "outputs": [],
   "source": [
    "starwars[\"Do you consider yourself to be a fan of the Star Wars film franchise?\"] = starwars[\"Do you consider yourself to be a fan of the Star Wars film franchise?\"].astype(bool)"
   ]
  },
  {
   "cell_type": "code",
   "execution_count": null,
   "metadata": {
    "collapsed": false,
    "scrolled": false
   },
   "outputs": [],
   "source": [
    "starwars.columns "
   ]
  },
  {
   "cell_type": "code",
   "execution_count": null,
   "metadata": {
    "collapsed": false,
    "scrolled": true
   },
   "outputs": [],
   "source": [
    "starwars[\"Household Income\"].value_counts()"
   ]
  },
  {
   "cell_type": "code",
   "execution_count": null,
   "metadata": {
    "collapsed": false
   },
   "outputs": [],
   "source": [
    "starwars[\"Education\"].value_counts()"
   ]
  },
  {
   "cell_type": "markdown",
   "metadata": {},
   "source": [
    "# Gender"
   ]
  },
  {
   "cell_type": "markdown",
   "metadata": {},
   "source": [
    "Let's analyze the StarWars data based on gender binary category. "
   ]
  },
  {
   "cell_type": "code",
   "execution_count": null,
   "metadata": {
    "collapsed": false,
    "scrolled": true
   },
   "outputs": [],
   "source": [
    "starwars[\"Gender\"].value_counts() \n",
    "#More female than men "
   ]
  },
  {
   "cell_type": "code",
   "execution_count": null,
   "metadata": {
    "collapsed": true
   },
   "outputs": [],
   "source": []
  },
  {
   "cell_type": "code",
   "execution_count": null,
   "metadata": {
    "collapsed": false,
    "scrolled": false
   },
   "outputs": [],
   "source": [
    "sns.barplot(x=\"Gender\",y=\"Do you consider yourself to be a fan of the Star Wars film franchise?\", hue=\"Age\", data=starwars)\n",
    "#Male are more likely to be a fan of StarWars compared to female"
   ]
  },
  {
   "cell_type": "code",
   "execution_count": null,
   "metadata": {
    "collapsed": false
   },
   "outputs": [],
   "source": [
    "starwars[\"Do you consider yourself to be a fan of the Star Wars film franchise?\"].mean()"
   ]
  },
  {
   "cell_type": "markdown",
   "metadata": {},
   "source": [
    "# StarTrek fan "
   ]
  },
  {
   "cell_type": "code",
   "execution_count": null,
   "metadata": {
    "collapsed": false
   },
   "outputs": [],
   "source": [
    "starwars[\"Do you consider yourself to be a fan of the Star Trek franchise?\"].value_counts(normalize=True) \n",
    "#More people are not a fan of Star Trek (60%)  "
   ]
  },
  {
   "cell_type": "code",
   "execution_count": null,
   "metadata": {
    "collapsed": false
   },
   "outputs": [],
   "source": [
    "starwars[\"Do you consider yourself to be a fan of the Star Trek franchise?\"] = starwars[\"Do you consider yourself to be a fan of the Star Trek franchise?\"].map({\"Yes\":True, \"No\":False})"
   ]
  },
  {
   "cell_type": "code",
   "execution_count": null,
   "metadata": {
    "collapsed": false
   },
   "outputs": [],
   "source": [
    "starwars[\"Do you consider yourself to be a fan of the Star Trek franchise?\"].value_counts()"
   ]
  },
  {
   "cell_type": "code",
   "execution_count": null,
   "metadata": {
    "collapsed": false
   },
   "outputs": [],
   "source": [
    "startrek_true = starwars[starwars[\"Do you consider yourself to be a fan of the Star Trek franchise?\"] == True] \n",
    "startrek_false = starwars[starwars[\"Do you consider yourself to be a fan of the Star Trek franchise?\"] == False] "
   ]
  },
  {
   "cell_type": "code",
   "execution_count": null,
   "metadata": {
    "collapsed": false
   },
   "outputs": [],
   "source": [
    "startrek_true_seen = [] \n",
    "for col in startrek_true.columns[3:9]:\n",
    "    startrek_true_seen.append(startrek_true[col].sum())\n",
    "print(\"StarTrek fan\", startrek_true_seen)\n",
    "\n",
    "startrek_false_seen = [] \n",
    "for col in startrek_false.columns[3:9]: \n",
    "    startrek_false_seen.append(startrek_false[col].sum())\n",
    "print(\"Non-StarTrek fan\", startrek_false_seen)\n",
    "#How to visualize this results? "
   ]
  },
  {
   "cell_type": "code",
   "execution_count": null,
   "metadata": {
    "collapsed": false
   },
   "outputs": [],
   "source": [
    "starwars.describe()"
   ]
  },
  {
   "cell_type": "markdown",
   "metadata": {},
   "source": [
    "# Region "
   ]
  },
  {
   "cell_type": "markdown",
   "metadata": {},
   "source": [
    "Census Regions \n",
    "---------------------------------------------------------------\n",
    "1: East North Central: Indiana, Illinoi, Michigan, Ohio, Wisconsin \n",
    "2: Pacific: Alaska, Washington, California, Oregon, Hawaii            \n",
    "3: South Atlantic: Delaware, District of Columbia, Florida, Georgia, Maryland, North Carolina, South Carolina,Virginia \n",
    "4: West Virginia          \n",
    "5: Middle Atlantic: New Jersy, New York, Pennsilvania         \n",
    "6: West South Central: Arkansas, Louisiana, Oklahoma, Texas  \n",
    "7: West North Central: Iowa, Nebraska, Kansas, NorthDakota, Minnesota, South Dakota, Missouri  \n",
    "8: Mountain: Arizona, Colorado, Idaho, New Mexico          \n",
    "9: New England: Mass, Main, Vermont, New Hampsher, Rhoad Island, Conneticat             \n",
    "10: East South Central: Alabama, Kentucky, Mississippi, Tennessee"
   ]
  },
  {
   "cell_type": "code",
   "execution_count": null,
   "metadata": {
    "collapsed": false,
    "scrolled": true
   },
   "outputs": [],
   "source": [
    "location_null = pd.isnull(starwars[\"Location (Census Region)\"])\n",
    "location_good = starwars[\"Location (Census Region)\"][location_null == False] \n",
    "print(location_good)"
   ]
  },
  {
   "cell_type": "code",
   "execution_count": null,
   "metadata": {
    "collapsed": false,
    "scrolled": false
   },
   "outputs": [],
   "source": [
    "starwars[\"Location (Census Region)\"].value_counts() "
   ]
  },
  {
   "cell_type": "code",
   "execution_count": null,
   "metadata": {
    "collapsed": false
   },
   "outputs": [],
   "source": [
    "starwars[[\"Do you consider yourself to be a fan of the Star Wars film franchise?\",\"Location (Census Region)\"]].groupby(\"Location (Census Region)\").mean().sort_values(\"Do you consider yourself to be a fan of the Star Wars film franchise?\", ascending=0)\n",
    "#West South Central(Arkansas, Louisiana, Oklahoma, Texas) has the highest average of being a Star Wars fan \n",
    "#Pacific region(Alaska, Washington, California, Oregon, Hawaii) is the lowest "
   ]
  },
  {
   "cell_type": "markdown",
   "metadata": {
    "collapsed": true
   },
   "source": [
    "# Age"
   ]
  },
  {
   "cell_type": "code",
   "execution_count": null,
   "metadata": {
    "collapsed": false
   },
   "outputs": [],
   "source": [
    "starwars[\"Age\"].value_counts(normalize=True)"
   ]
  },
  {
   "cell_type": "code",
   "execution_count": null,
   "metadata": {
    "collapsed": false
   },
   "outputs": [],
   "source": [
    "sns.countplot(x=\"Do you consider yourself to be a fan of the Star Wars film franchise?\", hue=\"Age\", data=starwars, palette=\"RdBu\")"
   ]
  },
  {
   "cell_type": "code",
   "execution_count": null,
   "metadata": {
    "collapsed": true
   },
   "outputs": [],
   "source": []
  }
 ],
 "metadata": {
  "anaconda-cloud": {},
  "kernelspec": {
   "display_name": "Python [conda root]",
   "language": "python",
   "name": "conda-root-py"
  },
  "language_info": {
   "codemirror_mode": {
    "name": "ipython",
    "version": 2
   },
   "file_extension": ".py",
   "mimetype": "text/x-python",
   "name": "python",
   "nbconvert_exporter": "python",
   "pygments_lexer": "ipython2",
   "version": "2.7.9"
  }
 },
 "nbformat": 4,
 "nbformat_minor": 1
}
